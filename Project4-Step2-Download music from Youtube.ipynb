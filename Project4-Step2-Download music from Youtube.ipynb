{
 "cells": [
  {
   "cell_type": "code",
   "execution_count": 1,
   "metadata": {
    "collapsed": false
   },
   "outputs": [],
   "source": [
    "import pandas as pd\n",
    "import youtube_dl\n",
    "from ffprobe import FFProbe\n",
    "import os\n",
    "import traceback"
   ]
  },
  {
   "cell_type": "markdown",
   "metadata": {},
   "source": [
    "### 1. Read file that is created in [Step1-Get music youtube url from www.last.fm]"
   ]
  },
  {
   "cell_type": "code",
   "execution_count": 4,
   "metadata": {
    "collapsed": false
   },
   "outputs": [
    {
     "name": "stdout",
     "output_type": "stream",
     "text": [
      "1446\n"
     ]
    },
    {
     "data": {
      "text/html": [
       "<div>\n",
       "<style scoped>\n",
       "    .dataframe tbody tr th:only-of-type {\n",
       "        vertical-align: middle;\n",
       "    }\n",
       "\n",
       "    .dataframe tbody tr th {\n",
       "        vertical-align: top;\n",
       "    }\n",
       "\n",
       "    .dataframe thead th {\n",
       "        text-align: right;\n",
       "    }\n",
       "</style>\n",
       "<table border=\"1\" class=\"dataframe\">\n",
       "  <thead>\n",
       "    <tr style=\"text-align: right;\">\n",
       "      <th></th>\n",
       "      <th>artistID</th>\n",
       "      <th>style</th>\n",
       "      <th>styleID</th>\n",
       "      <th>name</th>\n",
       "      <th>youtube_url</th>\n",
       "      <th>youtubeID</th>\n",
       "    </tr>\n",
       "  </thead>\n",
       "  <tbody>\n",
       "    <tr>\n",
       "      <th>0</th>\n",
       "      <td>52</td>\n",
       "      <td>hop</td>\n",
       "      <td>5</td>\n",
       "      <td>Morcheeba</td>\n",
       "      <td>https://www.youtube.com/watch?v=VnCS25z18pI</td>\n",
       "      <td>VnCS25z18pI</td>\n",
       "    </tr>\n",
       "    <tr>\n",
       "      <th>1</th>\n",
       "      <td>96</td>\n",
       "      <td>pop</td>\n",
       "      <td>2</td>\n",
       "      <td>Fleetwood Mac</td>\n",
       "      <td>https://www.youtube.com/watch?v=GzY140MnItA</td>\n",
       "      <td>GzY140MnItA</td>\n",
       "    </tr>\n",
       "    <tr>\n",
       "      <th>2</th>\n",
       "      <td>995</td>\n",
       "      <td>pop</td>\n",
       "      <td>2</td>\n",
       "      <td>China Crisis</td>\n",
       "      <td>https://www.youtube.com/watch?v=FQ2OK8UkBu8</td>\n",
       "      <td>FQ2OK8UkBu8</td>\n",
       "    </tr>\n",
       "    <tr>\n",
       "      <th>3</th>\n",
       "      <td>9322</td>\n",
       "      <td>punk</td>\n",
       "      <td>3</td>\n",
       "      <td>Sigue Sigue Sputnik</td>\n",
       "      <td>https://www.youtube.com/watch?v=V67OOERTOEo</td>\n",
       "      <td>V67OOERTOEo</td>\n",
       "    </tr>\n",
       "    <tr>\n",
       "      <th>4</th>\n",
       "      <td>99</td>\n",
       "      <td>rock</td>\n",
       "      <td>0</td>\n",
       "      <td>INXS</td>\n",
       "      <td>https://www.youtube.com/watch?v=Y2Csgu8Ya2o</td>\n",
       "      <td>Y2Csgu8Ya2o</td>\n",
       "    </tr>\n",
       "  </tbody>\n",
       "</table>\n",
       "</div>"
      ],
      "text/plain": [
       "   artistID style  styleID                 name  \\\n",
       "0        52   hop        5            Morcheeba   \n",
       "1        96   pop        2        Fleetwood Mac   \n",
       "2       995   pop        2         China Crisis   \n",
       "3      9322  punk        3  Sigue Sigue Sputnik   \n",
       "4        99  rock        0                 INXS   \n",
       "\n",
       "                                   youtube_url    youtubeID  \n",
       "0  https://www.youtube.com/watch?v=VnCS25z18pI  VnCS25z18pI  \n",
       "1  https://www.youtube.com/watch?v=GzY140MnItA  GzY140MnItA  \n",
       "2  https://www.youtube.com/watch?v=FQ2OK8UkBu8  FQ2OK8UkBu8  \n",
       "3  https://www.youtube.com/watch?v=V67OOERTOEo  V67OOERTOEo  \n",
       "4  https://www.youtube.com/watch?v=Y2Csgu8Ya2o  Y2Csgu8Ya2o  "
      ]
     },
     "execution_count": 4,
     "metadata": {},
     "output_type": "execute_result"
    }
   ],
   "source": [
    "df_url = pd.read_csv('./music/MusicInfo/Step1_artists_with_youtube_url.csv') \n",
    "df_url['youtubeID'] = df_url['youtube_url'].str.slice(start=-11)\n",
    "print len(df_url)\n",
    "df_url.head()"
   ]
  },
  {
   "cell_type": "markdown",
   "metadata": {},
   "source": [
    "### 2. Function [make_savepath] is used to create style directories if not exists, and return the music file's name with full path.\n",
    "Musics will be store in computer in the directories named with music style name, like below:  \n",
    "./music/MusicDownload/**black**/a.mp3   \n",
    "                ......    \n",
    "./music/MusicDownload/**black**/l.mp3   \n",
    "./music/MusicDownload/**country**/m.mp3    \n",
    "                 ......   \n",
    "./music/MusicDownload/**country**/s.mp3   \n",
    "                 ......   \n",
    "./music/MusicDownload/**rock**/x.mp3  \n",
    "                 ......   \n",
    "./music/MusicDownload/**rock**/z.mp3   "
   ]
  },
  {
   "cell_type": "code",
   "execution_count": 77,
   "metadata": {
    "collapsed": true
   },
   "outputs": [],
   "source": [
    "# create style directory \n",
    "def make_savepath(style, file_name):\n",
    "    savedir = \"./music/MusicDownload\"\n",
    "    if not os.path.exists(savedir+\"/\"+style):\n",
    "        os.makedirs(savedir+\"/\"+style)\n",
    "    return savedir+\"/\"+style + \"/\" + file_name"
   ]
  },
  {
   "cell_type": "markdown",
   "metadata": {},
   "source": [
    "### 3. Download music from youtube\n",
    "(1) Use [youtube_dl] to download music from youtube.   \n",
    "(2) Because youtube URLs prepared in Step1 are linked to vedios, not audio file, just extract audio from youtube and use [ffprobe] to convert extraced audio to mp3 files.\n"
   ]
  },
  {
   "cell_type": "markdown",
   "metadata": {},
   "source": [
    "**<font color=red>!!! Caution:</font>** It will take more than 10 hours to excute the below codes."
   ]
  },
  {
   "cell_type": "code",
   "execution_count": null,
   "metadata": {
    "collapsed": false,
    "scrolled": true
   },
   "outputs": [],
   "source": [
    "ydl_opts = {\n",
    "    'format': 'bestaudio/best', # choice of quality\n",
    "    'extractaudio' : True,      # only keep the audio\n",
    "    'noplaylist' : True,       # only download single song, not playlist\n",
    "    'postprocessors': [{\n",
    "        'key': 'FFmpegExtractAudio',\n",
    "        'preferredcodec': 'mp3',\n",
    "        'preferredquality': '192',\n",
    "    }],\n",
    "}\n",
    "ydl = youtube_dl.YoutubeDL(ydl_opts)\n",
    "    \n",
    "df_artist_with_youtube_info = pd.DataFrame()\n",
    "df_error_info = pd.DataFrame()\n",
    "with ydl:\n",
    "\n",
    "    # for each row, download\n",
    "    for i in range(0,len(df_url)):\n",
    "        print \"Downloading: %s ...\" % (df_url.iloc[i]['youtubeID'])\n",
    "        \n",
    "        # download audio\n",
    "        try:\n",
    "            result = ydl.extract_info(df_url.iloc[i]['youtube_url'], download=False)\n",
    "            download_name = result['title']+'-'+result['id']+'.mp3'\n",
    "            save_path = make_savepath(df_url.iloc[i]['style'], download_name)\n",
    "            os.rename(download_name, save_path)\n",
    "            print \"Downloaded and converted %s successfully!\" % save_path\n",
    "            df_artist_with_youtube_info.loc[i, 'file_name'] = download_name\n",
    "            df_artist_with_youtube_info.loc[i, 'title'] = result['title']\n",
    "            df_artist_with_youtube_info.loc[i, 'display_id'] = result['display_id']\n",
    "            df_artist_with_youtube_info.loc[i, 'upload_date'] = result['upload_date']\n",
    "            df_artist_with_youtube_info.loc[i, 'view_count'] = result['view_count']\n",
    "            df_artist_with_youtube_info.loc[i, 'like_count'] = result['like_count']\n",
    "            df_artist_with_youtube_info.loc[i, 'dislike_count'] = result['dislike_count']\n",
    "            df_artist_with_youtube_info.loc[i, 'average_rating'] = result['average_rating']\n",
    "            df_artist_with_youtube_info.loc[i, 'creator'] = result['creator']\n",
    "            df_artist_with_youtube_info.loc[i, 'artist'] = result['artist']\n",
    "        except Exception as e:\n",
    "            df_error_info.loc[i, 'youtubeID'] = df_url.iloc[i]['youtubeID']\n",
    "            df_error_info.loc[i, 'style'] = df_url.iloc[i]['style']\n",
    "            df_error_info.loc[i, 'artistID'] = df_url.iloc[i]['artistID']\n",
    "            print \"Can't download audio! %s\\n\" % traceback.format_exc()\n",
    "\n",
    "df_artist_with_youtube_info[\"file_name\"] = df_artist_with_youtube_info[\"file_name\"].str.encode(encoding=\"ascii\", errors='replace')\n",
    "df_artist_with_youtube_info[\"title\"] = df_artist_with_youtube_info[\"title\"].str.encode(encoding=\"ascii\", errors='replace')\n",
    "df_artist_with_youtube_info[\"creator\"] = df_artist_with_youtube_info[\"creator\"].str.encode(encoding=\"ascii\", errors='replace')\n",
    "df_artist_with_youtube_info[\"artist\"] = df_artist_with_youtube_info[\"artist\"].str.encode(encoding=\"ascii\", errors='replace')\n",
    "            \n",
    "df_artist_with_youtube_info.to_csv('./music/MusicInfo/Step2_artists_with_youtube_info.csv', index=False)"
   ]
  }
 ],
 "metadata": {
  "kernelspec": {
   "display_name": "Python 2",
   "language": "python",
   "name": "python2"
  },
  "language_info": {
   "codemirror_mode": {
    "name": "ipython",
    "version": 2
   },
   "file_extension": ".py",
   "mimetype": "text/x-python",
   "name": "python",
   "nbconvert_exporter": "python",
   "pygments_lexer": "ipython2",
   "version": "2.7.10"
  }
 },
 "nbformat": 4,
 "nbformat_minor": 0
}
