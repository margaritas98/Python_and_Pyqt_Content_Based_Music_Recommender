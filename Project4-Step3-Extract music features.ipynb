{
 "cells": [
  {
   "cell_type": "code",
   "execution_count": 1,
   "metadata": {
    "collapsed": false
   },
   "outputs": [],
   "source": [
    "import librosa\n",
    "import os\n",
    "import pandas as pd\n",
    "import numpy as np\n",
    "import traceback"
   ]
  },
  {
   "cell_type": "code",
   "execution_count": 30,
   "metadata": {
    "collapsed": true
   },
   "outputs": [],
   "source": [
    "#the path of downloaded music\n",
    "#music_files_dir = './music/MusicDownload/'\n",
    "music_files_dir = 'D:/PostGraduateStudy/DataScience/MusicRecommander/music/MusicDownload/'\n",
    "#the path where the extracted music feature files will be saved\n",
    "#features_files_dir = './music/MusicFeatures/'\n",
    "features_files_dir = 'D:/PostGraduateStudy/DataScience/MusicRecommander/music/MusicFeatures/'\n",
    "#the path of the file of music's other infomation\n",
    "#music_info_dir = './music/MusicInfo/'\n",
    "music_info_dir = 'D:/PostGraduateStudy/DataScience/MusicRecommander/music/MusicInfo/'\n",
    "#the separator of the path\n",
    "separator = '/'"
   ]
  },
  {
   "cell_type": "code",
   "execution_count": 31,
   "metadata": {
    "collapsed": true
   },
   "outputs": [],
   "source": [
    "#find all music files' name, include all sub dir\n",
    "def scan_files(file_dir):\n",
    "    files_list=[]\n",
    "    for dirpath,dirnames,filenames in os.walk(file_dir):\n",
    "        for filename in filenames:\n",
    "                files_list.append(dirpath + separator + filename)\n",
    "    #return files' name with full dir\n",
    "    return files_list "
   ]
  },
  {
   "cell_type": "code",
   "execution_count": 18,
   "metadata": {
    "collapsed": false
   },
   "outputs": [],
   "source": [
    "#change all music files' name from [title+'-'+youtubeID+'.mp3'] to [youtubeID+'.mp3']\n",
    "def change_names(file_dir):\n",
    "    music_files = scan_files(file_dir)\n",
    "    for i in range(0, len(music_files)):\n",
    "        old_name_with_full_dir = music_files[i]\n",
    "        index_last_separator = old_name_with_full_dir.rfind(separator)\n",
    "        new_name_with_full_dir = old_name_with_full_dir[0:index_last_separator+1] + old_name_with_full_dir[-15:]\n",
    "        os.rename(old_name_with_full_dir, new_name_with_full_dir)"
   ]
  },
  {
   "cell_type": "markdown",
   "metadata": {},
   "source": [
    "### 1. Change all music files' name from [title+'-'+youtubeID+'.mp3'] to [youtubeID+'.mp3']\n",
    "Because downloaded music files' name includes the title, like 'China Crisis - Wishful Thinking (7'' Single Edit) Music Video-FQ2OK8UkBu8.mp3',\n",
    "all music files' name will be change to youtubeID, like 'FQ2OK8UkBu8.mp3'."
   ]
  },
  {
   "cell_type": "code",
   "execution_count": 21,
   "metadata": {
    "collapsed": false
   },
   "outputs": [
    {
     "name": "stdout",
     "output_type": "stream",
     "text": [
      "\n"
     ]
    }
   ],
   "source": [
    "change_names(music_files_dir)"
   ]
  },
  {
   "cell_type": "markdown",
   "metadata": {},
   "source": [
    "### 2. Find all music files' name, include all sub directories."
   ]
  },
  {
   "cell_type": "code",
   "execution_count": 34,
   "metadata": {
    "collapsed": false,
    "scrolled": true
   },
   "outputs": [
    {
     "name": "stdout",
     "output_type": "stream",
     "text": [
      "1354\n"
     ]
    },
    {
     "data": {
      "text/html": [
       "<div>\n",
       "<style scoped>\n",
       "    .dataframe tbody tr th:only-of-type {\n",
       "        vertical-align: middle;\n",
       "    }\n",
       "\n",
       "    .dataframe tbody tr th {\n",
       "        vertical-align: top;\n",
       "    }\n",
       "\n",
       "    .dataframe thead th {\n",
       "        text-align: right;\n",
       "    }\n",
       "</style>\n",
       "<table border=\"1\" class=\"dataframe\">\n",
       "  <thead>\n",
       "    <tr style=\"text-align: right;\">\n",
       "      <th></th>\n",
       "      <th>musicFileNameWithDir</th>\n",
       "      <th>musicFileName</th>\n",
       "      <th>youtubeID</th>\n",
       "    </tr>\n",
       "  </thead>\n",
       "  <tbody>\n",
       "    <tr>\n",
       "      <th>0</th>\n",
       "      <td>D:/PostGraduateStudy/DataScience/MusicRecomman...</td>\n",
       "      <td>-1VISLfRDfg.mp3</td>\n",
       "      <td>-1VISLfRDfg</td>\n",
       "    </tr>\n",
       "    <tr>\n",
       "      <th>1</th>\n",
       "      <td>D:/PostGraduateStudy/DataScience/MusicRecomman...</td>\n",
       "      <td>-ubLj8mLqOc.mp3</td>\n",
       "      <td>-ubLj8mLqOc</td>\n",
       "    </tr>\n",
       "    <tr>\n",
       "      <th>2</th>\n",
       "      <td>D:/PostGraduateStudy/DataScience/MusicRecomman...</td>\n",
       "      <td>01yUzXQctcM.mp3</td>\n",
       "      <td>01yUzXQctcM</td>\n",
       "    </tr>\n",
       "    <tr>\n",
       "      <th>3</th>\n",
       "      <td>D:/PostGraduateStudy/DataScience/MusicRecomman...</td>\n",
       "      <td>1SFAIryH0Hs.mp3</td>\n",
       "      <td>1SFAIryH0Hs</td>\n",
       "    </tr>\n",
       "    <tr>\n",
       "      <th>4</th>\n",
       "      <td>D:/PostGraduateStudy/DataScience/MusicRecomman...</td>\n",
       "      <td>2a5ZdbZ4l70.mp3</td>\n",
       "      <td>2a5ZdbZ4l70</td>\n",
       "    </tr>\n",
       "  </tbody>\n",
       "</table>\n",
       "</div>"
      ],
      "text/plain": [
       "                                musicFileNameWithDir    musicFileName  \\\n",
       "0  D:/PostGraduateStudy/DataScience/MusicRecomman...  -1VISLfRDfg.mp3   \n",
       "1  D:/PostGraduateStudy/DataScience/MusicRecomman...  -ubLj8mLqOc.mp3   \n",
       "2  D:/PostGraduateStudy/DataScience/MusicRecomman...  01yUzXQctcM.mp3   \n",
       "3  D:/PostGraduateStudy/DataScience/MusicRecomman...  1SFAIryH0Hs.mp3   \n",
       "4  D:/PostGraduateStudy/DataScience/MusicRecomman...  2a5ZdbZ4l70.mp3   \n",
       "\n",
       "     youtubeID  \n",
       "0  -1VISLfRDfg  \n",
       "1  -ubLj8mLqOc  \n",
       "2  01yUzXQctcM  \n",
       "3  1SFAIryH0Hs  \n",
       "4  2a5ZdbZ4l70  "
      ]
     },
     "execution_count": 34,
     "metadata": {},
     "output_type": "execute_result"
    }
   ],
   "source": [
    "music_files_name_with_full_dir_list = scan_files(music_files_dir)\n",
    "df_music_files = pd.DataFrame({'musicFileNameWithDir':music_files_name_with_full_dir_list})\n",
    "df_music_files['musicFileName'] = df_music_files['musicFileNameWithDir'].str.slice(start=-15)\n",
    "df_music_files['youtubeID'] = df_music_files['musicFileNameWithDir'].str.slice(start=-15, stop=-4)\n",
    "\n",
    "print len(df_music_files)\n",
    "df_music_files.head()"
   ]
  },
  {
   "cell_type": "markdown",
   "metadata": {},
   "source": [
    "### 3. Use librosa to extract features [melspec] for each music mp3 file, save to feature data to file [youtubeID+'.npy']\n",
    "For each music file, extract features every 20 seconds, not include the first 10 seconds and last 10 seconds of the music, because normally there is  silence in the first 10 seconds and last 10 seconds. The feature data will be all zero for the silent period."
   ]
  },
  {
   "cell_type": "code",
   "execution_count": 33,
   "metadata": {
    "collapsed": false
   },
   "outputs": [],
   "source": [
    "df_error = pd.DataFrame()\n",
    "error_count = 0\n",
    "#for each mp3 file, extract melspec features\n",
    "for i in range(0,len(df_music_files)):\n",
    "    #the melspec features file's name with full path in which melspec feature data are saved.\n",
    "    features_file_name_with_full_dir = features_files_dir+df_music_files.iloc[i]['youtubeID']+'.npy'\n",
    "\n",
    "    try:\n",
    "        #if the melspec feature file already exists, skip this music\n",
    "        if os.path.exists(features_file_name_with_full_dir):\n",
    "            #print 'file:[' + df_music_files.iloc[i]['youtubeID']+ '.npy] is exist already! Process next song!'\n",
    "            continue\n",
    "        music_file_name_with_full_dir = df_music_files.iloc[i]['musicFileNameWithDir']\n",
    "\n",
    "        melspec_list = []\n",
    "        #get the duration (in seconds) of an audio time\n",
    "        duration = librosa.get_duration(filename=music_file_name_with_full_dir)\n",
    "        #don't get music features of the first 10 seconds and last 10 seconds \n",
    "        duration = duration - 20\n",
    "        #because extracting music features every 20 seconds, caculate the times of extracting music features \n",
    "        times = int(duration//20)\n",
    "        for j in range(0,times):\n",
    "            y, sr = librosa.load(music_file_name_with_full_dir, sr=11025, offset=(10+j*20), duration=20)\n",
    "            melspec = librosa.feature.melspectrogram(y=y, sr=sr, n_fft=1024, hop_length=512, n_mels=128)\n",
    "            melspec_list.append(melspec)\n",
    "\n",
    "        #put all lists of music feature in an np.array, so for each music, there is a three dimensions np.array\n",
    "        x = np.array(melspec_list)\n",
    "\n",
    "        np.save(features_files_dir+df_music_files.iloc[i]['youtubeID'], x)\n",
    "        \n",
    "    except Exception as e:\n",
    "        df_error.loc[error_count, 'fileName'] = music_file_name_with_full_dir\n",
    "        error_count = error_count + 1\n",
    "        print music_file_name_with_full_dir\n",
    "        print \"Can't extract features! %s\\n\" % traceback.format_exc()\n",
    "        continue\n",
    "        \n",
    "#if there is exception when extracting features, write to error.csv\n",
    "if len(df_error) > 0:\n",
    "    df_error.to_csv(music_info_dir + 'Step3_extract_features_error.csv')"
   ]
  },
  {
   "cell_type": "code",
   "execution_count": 35,
   "metadata": {
    "collapsed": false
   },
   "outputs": [
    {
     "data": {
      "text/plain": [
       "(17L, 128L, 431L)"
      ]
     },
     "execution_count": 35,
     "metadata": {},
     "output_type": "execute_result"
    }
   ],
   "source": [
    "#For loading saved music features files test\n",
    "y = np.load(features_files_dir+'2a5ZdbZ4l70.npy')\n",
    "y.shape"
   ]
  },
  {
   "cell_type": "markdown",
   "metadata": {},
   "source": [
    "### 4. Integrate all music infomation together, and create a csv file for data traing in next step\n",
    "(1) Get all extracted music features file's name and youtube ID.   \n",
    "(2) Combine with csv files that are created in [Step1-Get music youtube url from www.last.fm] and [Step2-Download music from Youtube]"
   ]
  },
  {
   "cell_type": "code",
   "execution_count": 37,
   "metadata": {
    "collapsed": false
   },
   "outputs": [
    {
     "data": {
      "text/html": [
       "<div>\n",
       "<style scoped>\n",
       "    .dataframe tbody tr th:only-of-type {\n",
       "        vertical-align: middle;\n",
       "    }\n",
       "\n",
       "    .dataframe tbody tr th {\n",
       "        vertical-align: top;\n",
       "    }\n",
       "\n",
       "    .dataframe thead th {\n",
       "        text-align: right;\n",
       "    }\n",
       "</style>\n",
       "<table border=\"1\" class=\"dataframe\">\n",
       "  <thead>\n",
       "    <tr style=\"text-align: right;\">\n",
       "      <th></th>\n",
       "      <th>musicFeaturesFileNameWithDir</th>\n",
       "      <th>musicFeaturesFileName</th>\n",
       "      <th>youtubeID</th>\n",
       "      <th>musicFileNameWithDir</th>\n",
       "      <th>musicFileName</th>\n",
       "      <th>file_name</th>\n",
       "      <th>title</th>\n",
       "      <th>upload_date</th>\n",
       "      <th>view_count</th>\n",
       "      <th>like_count</th>\n",
       "      <th>dislike_count</th>\n",
       "      <th>average_rating</th>\n",
       "      <th>creator</th>\n",
       "      <th>artist</th>\n",
       "      <th>artistID</th>\n",
       "      <th>style</th>\n",
       "      <th>styleID</th>\n",
       "      <th>name</th>\n",
       "      <th>youtube_url</th>\n",
       "    </tr>\n",
       "  </thead>\n",
       "  <tbody>\n",
       "    <tr>\n",
       "      <th>0</th>\n",
       "      <td>D:/PostGraduateStudy/DataScience/MusicRecomman...</td>\n",
       "      <td>-1VISLfRDfg.npy</td>\n",
       "      <td>-1VISLfRDfg</td>\n",
       "      <td>D:/PostGraduateStudy/DataScience/MusicRecomman...</td>\n",
       "      <td>-1VISLfRDfg.mp3</td>\n",
       "      <td>Lurker Of Chalice - Piercing Where They Might-...</td>\n",
       "      <td>Lurker Of Chalice - Piercing Where They Might</td>\n",
       "      <td>20081120.0</td>\n",
       "      <td>79880.0</td>\n",
       "      <td>890.0</td>\n",
       "      <td>15.0</td>\n",
       "      <td>4.933702</td>\n",
       "      <td>NaN</td>\n",
       "      <td>NaN</td>\n",
       "      <td>5866</td>\n",
       "      <td>black</td>\n",
       "      <td>6</td>\n",
       "      <td>Lurker of Chalice</td>\n",
       "      <td>https://www.youtube.com/watch?v=-1VISLfRDfg</td>\n",
       "    </tr>\n",
       "    <tr>\n",
       "      <th>1</th>\n",
       "      <td>D:/PostGraduateStudy/DataScience/MusicRecomman...</td>\n",
       "      <td>-49noOAFsG8.npy</td>\n",
       "      <td>-49noOAFsG8</td>\n",
       "      <td>D:/PostGraduateStudy/DataScience/MusicRecomman...</td>\n",
       "      <td>-49noOAFsG8.mp3</td>\n",
       "      <td>Saxon - Princess of the Night--49noOAFsG8.mp3</td>\n",
       "      <td>Saxon - Princess of the Night</td>\n",
       "      <td>20071128.0</td>\n",
       "      <td>6215492.0</td>\n",
       "      <td>29076.0</td>\n",
       "      <td>669.0</td>\n",
       "      <td>4.910096</td>\n",
       "      <td>Saxon</td>\n",
       "      <td>Saxon</td>\n",
       "      <td>3476</td>\n",
       "      <td>metal</td>\n",
       "      <td>1</td>\n",
       "      <td>Saxon</td>\n",
       "      <td>https://www.youtube.com/watch?v=-49noOAFsG8</td>\n",
       "    </tr>\n",
       "    <tr>\n",
       "      <th>2</th>\n",
       "      <td>D:/PostGraduateStudy/DataScience/MusicRecomman...</td>\n",
       "      <td>-4k9ovLfKV8.npy</td>\n",
       "      <td>-4k9ovLfKV8</td>\n",
       "      <td>D:/PostGraduateStudy/DataScience/MusicRecomman...</td>\n",
       "      <td>-4k9ovLfKV8.mp3</td>\n",
       "      <td>Jennette McCurdy - So close lyrics--4k9ovLfKV8...</td>\n",
       "      <td>Jennette McCurdy - So close lyrics</td>\n",
       "      <td>20140121.0</td>\n",
       "      <td>33503.0</td>\n",
       "      <td>375.0</td>\n",
       "      <td>13.0</td>\n",
       "      <td>4.865979</td>\n",
       "      <td>Jennette McCurdy</td>\n",
       "      <td>Jennette McCurdy</td>\n",
       "      <td>1683</td>\n",
       "      <td>country</td>\n",
       "      <td>7</td>\n",
       "      <td>Jennette McCurdy</td>\n",
       "      <td>https://www.youtube.com/watch?v=-4k9ovLfKV8</td>\n",
       "    </tr>\n",
       "    <tr>\n",
       "      <th>3</th>\n",
       "      <td>D:/PostGraduateStudy/DataScience/MusicRecomman...</td>\n",
       "      <td>-59jGD4WrmE.npy</td>\n",
       "      <td>-59jGD4WrmE</td>\n",
       "      <td>D:/PostGraduateStudy/DataScience/MusicRecomman...</td>\n",
       "      <td>-59jGD4WrmE.mp3</td>\n",
       "      <td>Lil Wayne, Wiz Khalifa &amp; Imagine Dragons w/ Lo...</td>\n",
       "      <td>Lil Wayne, Wiz Khalifa &amp; Imagine Dragons w/ Lo...</td>\n",
       "      <td>20160624.0</td>\n",
       "      <td>553746262.0</td>\n",
       "      <td>3867917.0</td>\n",
       "      <td>148948.0</td>\n",
       "      <td>4.851403</td>\n",
       "      <td>Imagine Dragons</td>\n",
       "      <td>Imagine Dragons</td>\n",
       "      <td>527</td>\n",
       "      <td>hop</td>\n",
       "      <td>5</td>\n",
       "      <td>Lil' Wayne</td>\n",
       "      <td>https://www.youtube.com/watch?v=-59jGD4WrmE</td>\n",
       "    </tr>\n",
       "    <tr>\n",
       "      <th>4</th>\n",
       "      <td>D:/PostGraduateStudy/DataScience/MusicRecomman...</td>\n",
       "      <td>-5Ri8GY57SI.npy</td>\n",
       "      <td>-5Ri8GY57SI</td>\n",
       "      <td>D:/PostGraduateStudy/DataScience/MusicRecomman...</td>\n",
       "      <td>-5Ri8GY57SI.mp3</td>\n",
       "      <td>Kellie Pickler - Red High Heels--5Ri8GY57SI.mp3</td>\n",
       "      <td>Kellie Pickler - Red High Heels</td>\n",
       "      <td>20091003.0</td>\n",
       "      <td>18045596.0</td>\n",
       "      <td>49566.0</td>\n",
       "      <td>2427.0</td>\n",
       "      <td>4.813365</td>\n",
       "      <td>Kellie Pickler</td>\n",
       "      <td>Kellie Pickler</td>\n",
       "      <td>5266</td>\n",
       "      <td>country</td>\n",
       "      <td>7</td>\n",
       "      <td>Kellie Pickler</td>\n",
       "      <td>https://www.youtube.com/watch?v=-5Ri8GY57SI</td>\n",
       "    </tr>\n",
       "  </tbody>\n",
       "</table>\n",
       "</div>"
      ],
      "text/plain": [
       "                        musicFeaturesFileNameWithDir musicFeaturesFileName  \\\n",
       "0  D:/PostGraduateStudy/DataScience/MusicRecomman...       -1VISLfRDfg.npy   \n",
       "1  D:/PostGraduateStudy/DataScience/MusicRecomman...       -49noOAFsG8.npy   \n",
       "2  D:/PostGraduateStudy/DataScience/MusicRecomman...       -4k9ovLfKV8.npy   \n",
       "3  D:/PostGraduateStudy/DataScience/MusicRecomman...       -59jGD4WrmE.npy   \n",
       "4  D:/PostGraduateStudy/DataScience/MusicRecomman...       -5Ri8GY57SI.npy   \n",
       "\n",
       "     youtubeID                               musicFileNameWithDir  \\\n",
       "0  -1VISLfRDfg  D:/PostGraduateStudy/DataScience/MusicRecomman...   \n",
       "1  -49noOAFsG8  D:/PostGraduateStudy/DataScience/MusicRecomman...   \n",
       "2  -4k9ovLfKV8  D:/PostGraduateStudy/DataScience/MusicRecomman...   \n",
       "3  -59jGD4WrmE  D:/PostGraduateStudy/DataScience/MusicRecomman...   \n",
       "4  -5Ri8GY57SI  D:/PostGraduateStudy/DataScience/MusicRecomman...   \n",
       "\n",
       "     musicFileName                                          file_name  \\\n",
       "0  -1VISLfRDfg.mp3  Lurker Of Chalice - Piercing Where They Might-...   \n",
       "1  -49noOAFsG8.mp3      Saxon - Princess of the Night--49noOAFsG8.mp3   \n",
       "2  -4k9ovLfKV8.mp3  Jennette McCurdy - So close lyrics--4k9ovLfKV8...   \n",
       "3  -59jGD4WrmE.mp3  Lil Wayne, Wiz Khalifa & Imagine Dragons w/ Lo...   \n",
       "4  -5Ri8GY57SI.mp3    Kellie Pickler - Red High Heels--5Ri8GY57SI.mp3   \n",
       "\n",
       "                                               title  upload_date  \\\n",
       "0      Lurker Of Chalice - Piercing Where They Might   20081120.0   \n",
       "1                      Saxon - Princess of the Night   20071128.0   \n",
       "2                 Jennette McCurdy - So close lyrics   20140121.0   \n",
       "3  Lil Wayne, Wiz Khalifa & Imagine Dragons w/ Lo...   20160624.0   \n",
       "4                    Kellie Pickler - Red High Heels   20091003.0   \n",
       "\n",
       "    view_count  like_count  dislike_count  average_rating           creator  \\\n",
       "0      79880.0       890.0           15.0        4.933702               NaN   \n",
       "1    6215492.0     29076.0          669.0        4.910096             Saxon   \n",
       "2      33503.0       375.0           13.0        4.865979  Jennette McCurdy   \n",
       "3  553746262.0   3867917.0       148948.0        4.851403   Imagine Dragons   \n",
       "4   18045596.0     49566.0         2427.0        4.813365    Kellie Pickler   \n",
       "\n",
       "             artist  artistID    style  styleID               name  \\\n",
       "0               NaN      5866    black        6  Lurker of Chalice   \n",
       "1             Saxon      3476    metal        1              Saxon   \n",
       "2  Jennette McCurdy      1683  country        7   Jennette McCurdy   \n",
       "3   Imagine Dragons       527      hop        5         Lil' Wayne   \n",
       "4    Kellie Pickler      5266  country        7     Kellie Pickler   \n",
       "\n",
       "                                   youtube_url  \n",
       "0  https://www.youtube.com/watch?v=-1VISLfRDfg  \n",
       "1  https://www.youtube.com/watch?v=-49noOAFsG8  \n",
       "2  https://www.youtube.com/watch?v=-4k9ovLfKV8  \n",
       "3  https://www.youtube.com/watch?v=-59jGD4WrmE  \n",
       "4  https://www.youtube.com/watch?v=-5Ri8GY57SI  "
      ]
     },
     "execution_count": 37,
     "metadata": {},
     "output_type": "execute_result"
    }
   ],
   "source": [
    "#Step4:integrate music features file, music mp3 file and youtube infomation of music\n",
    "#find all music features files' name, and youtube ID\n",
    "music_features_files_name_with_full_dir_list = scan_files(features_files_dir)\n",
    "df_music_features_files = pd.DataFrame({'musicFeaturesFileNameWithDir':music_features_files_name_with_full_dir_list})\n",
    "df_music_features_files['musicFeaturesFileName'] = df_music_features_files['musicFeaturesFileNameWithDir'].str.slice(start=-15)\n",
    "df_music_features_files['youtubeID'] = df_music_features_files['musicFeaturesFileNameWithDir'].str.slice(start=-15, stop=-4)\n",
    "\n",
    "#read the file in which the youtube information  of the music is stored\n",
    "df_music_youtube_info = pd.read_csv(music_info_dir + 'Step2_artists_with_youtube_info.csv') \n",
    "df_music_youtube_info.head()\n",
    "\n",
    "#read the file in which the style and styleID of the music is stored\n",
    "df_music_style = pd.read_csv(music_info_dir + 'Step1_artists_with_youtube_url.csv')\n",
    "df_music_style['youtubeID'] = df_music_style['youtube_url'].str.slice(start=-11)\n",
    "\n",
    "df_integrated_music_info=pd.DataFrame()\n",
    "#based on the music feature files, add music files' name (mp3 file's name)\n",
    "df_integrated_music_info = df_music_features_files.join(df_music_files.set_index('youtubeID'), how='left', on='youtubeID')\n",
    "#based on the music feature files, add music's youtube info: \n",
    "#include file_name, title, upload_date, view_count, like_count, dislike_count, dislike_count,average_rating,creator,artist \n",
    "df_integrated_music_info = df_integrated_music_info.join(df_music_youtube_info.set_index('display_id'), how='left', on='youtubeID')\n",
    "#based on the music feature files, add music's style and styleID\n",
    "df_integrated_music_info = df_integrated_music_info.join(df_music_style.set_index('youtubeID'), how='left', on='youtubeID')\n",
    "\n",
    "\n",
    "df_integrated_music_info.to_csv(music_info_dir + 'Step3_integrated_music_info.csv')\n",
    "df_integrated_music_info.head()"
   ]
  }
 ],
 "metadata": {
  "kernelspec": {
   "display_name": "Python 2",
   "language": "python",
   "name": "python2"
  },
  "language_info": {
   "codemirror_mode": {
    "name": "ipython",
    "version": 2
   },
   "file_extension": ".py",
   "mimetype": "text/x-python",
   "name": "python",
   "nbconvert_exporter": "python",
   "pygments_lexer": "ipython2",
   "version": "2.7.10"
  }
 },
 "nbformat": 4,
 "nbformat_minor": 0
}
